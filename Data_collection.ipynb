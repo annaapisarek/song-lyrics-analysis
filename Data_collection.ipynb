{
 "cells": [
  {
   "cell_type": "code",
   "execution_count": null,
   "id": "59131526-2ba0-4df3-b641-f8eabed2f28f",
   "metadata": {},
   "outputs": [],
   "source": [
    "!pip install -r requirements.txt\n",
    "import api_functions as ap"
   ]
  },
  {
   "cell_type": "code",
   "execution_count": null,
   "id": "5f476c53-42ec-4f0c-b363-1add9269f15b",
   "metadata": {},
   "outputs": [],
   "source": [
    "# Download kaggle data\n",
    "path = kagglehub.dataset_download(\"ludmin/billboard\")"
   ]
  },
  {
   "cell_type": "code",
   "execution_count": null,
   "id": "a7f3fbf5-4c1b-47d5-8deb-e1e2580cbbf7",
   "metadata": {},
   "outputs": [],
   "source": [
    "#Create a DataFrame\n",
    "df_songs = pd.read_csv('hot100.csv')"
   ]
  },
  {
   "cell_type": "code",
   "execution_count": null,
   "id": "dee0ae6a-1c45-46b9-b07c-c848e07726da",
   "metadata": {},
   "outputs": [],
   "source": [
    "#Drop image url column\n",
    "df_songs = df_songs.drop(columns=['Image URL'])"
   ]
  },
  {
   "cell_type": "code",
   "execution_count": null,
   "id": "3784285a-da50-4588-998e-56504762a92e",
   "metadata": {},
   "outputs": [],
   "source": [
    "#Drop duplicates\n",
    "df_songs = df_songs.drop_duplicates()"
   ]
  },
  {
   "cell_type": "code",
   "execution_count": null,
   "id": "a4f7ef14-d68f-4b8a-835f-1c0ec906637f",
   "metadata": {},
   "outputs": [],
   "source": [
    "#Filter for only for top songs and only since 1990\n",
    "df_songs = df_songs[(df_songs['Date'] >= '1990-01-01') & (df_songs['Peak Position'] = 1)]"
   ]
  },
  {
   "cell_type": "code",
   "execution_count": null,
   "id": "0ecd95c3-b11d-419b-9805-d15553e2dfc5",
   "metadata": {},
   "outputs": [],
   "source": [
    "# Drop duplicates based on Artist and Song, keeping the first occurrence (best Peak Position)\n",
    "df_songs = df_songs.drop_duplicates(subset=['Artist', 'Song'], keep='first')"
   ]
  },
  {
   "cell_type": "code",
   "execution_count": null,
   "id": "d9842a55-3e2c-43a3-90d2-ed799dd3cf0f",
   "metadata": {},
   "outputs": [],
   "source": [
    "# Set variables\n",
    "\n",
    "df = df_songs\n",
    "\n",
    "load_dotenv()\n",
    "api_key = os.getenv(\"api_key\")"
   ]
  },
  {
   "cell_type": "code",
   "execution_count": null,
   "id": "88293c14-cc95-4499-a4b8-f0d275b60d67",
   "metadata": {},
   "outputs": [],
   "source": [
    "# Process all songs\n",
    "df = ap.add_genius_data(\n",
    "    df,\n",
    "    api_key,\n",
    "    save_every=100)\n",
    "\n",
    "# Save intermediate results\n",
    "ap.save_results(df, \"billboard_with_lyrics_intermediate.csv\")\n",
    "\n",
    "# Save final results\n",
    "ap.save_results(df, \"billboard_with_lyrics_final.csv\")"
   ]
  },
  {
   "cell_type": "code",
   "execution_count": null,
   "id": "627bd5cd-2057-4b39-8020-2d8ba93d8431",
   "metadata": {},
   "outputs": [],
   "source": [
    "#Update missing lyrics\n",
    "\n",
    "csv_path = \"billboard_with_lyrics_final.csv\"\n",
    "ap.update_missing_lyrics(csv_path, api_key)"
   ]
  },
  {
   "cell_type": "code",
   "execution_count": null,
   "id": "499456fa-3633-44f6-8c3d-f70fa12f0a9b",
   "metadata": {},
   "outputs": [],
   "source": [
    "#Clean lyrics\n",
    "ap.update_and_clean_lyrics(csv_path, api_key, 250)"
   ]
  },
  {
   "cell_type": "code",
   "execution_count": null,
   "id": "213ddc03-424a-4c91-b807-f38e9fb30dbe",
   "metadata": {},
   "outputs": [],
   "source": [
    "#Remove not needed data\n",
    "df = df[df['Peak Position'] == 1]\n",
    "df = df.drop(columns=['genius_url'])\n",
    "df = df.drop(columns=['match_score'])"
   ]
  },
  {
   "cell_type": "code",
   "execution_count": null,
   "id": "e5431809-0719-4d0a-a861-b27fbadcc486",
   "metadata": {},
   "outputs": [],
   "source": [
    "# Apply the function to add genres from Spotify\n",
    "df['genre'] = df['Artist'].apply(ap.get_genre)"
   ]
  },
  {
   "cell_type": "code",
   "execution_count": null,
   "id": "01c21774-4c2b-4aa9-bf16-7bc7f06497df",
   "metadata": {},
   "outputs": [],
   "source": [
    "#Extract the primary genre and add Primary genre column\n",
    "df['Primary genre'] = df['genre'].tolist()\n",
    "df['Primary genre'] = df['genre'].str.extract(r\"\\['(.*?)'\")"
   ]
  },
  {
   "cell_type": "code",
   "execution_count": null,
   "id": "2ead120d-9255-40a0-9b8f-890b931292d3",
   "metadata": {},
   "outputs": [],
   "source": [
    "#Apply the function to get the final genre based on clustering of Primary genre values\n",
    "df['Final_genre'] = ap.cluster_genres(df, 'Primary genre')"
   ]
  },
  {
   "cell_type": "code",
   "execution_count": null,
   "id": "ea5f2d1a",
   "metadata": {},
   "outputs": [],
   "source": [
    "#Capitalize column names and remove empty spaces\n",
    "df.columns = df.columns.str.capitalize()\n",
    "df.columns = df.columns.str.replace('_', '', regex=False)"
   ]
  },
  {
   "cell_type": "code",
   "execution_count": null,
   "id": "16cf7b20",
   "metadata": {},
   "outputs": [],
   "source": [
    "#Drop not needed columns \n",
    "df = df.drop(columns=['Rank', 'Last_week', 'Peak_position', 'Weeks_in_charts'])"
   ]
  },
  {
   "cell_type": "code",
   "execution_count": null,
   "id": "dbdbc2c9-5931-4062-b9fd-406240610306",
   "metadata": {},
   "outputs": [],
   "source": [
    "#Export the file\n",
    "df.to_csv('billboard_with_lyrics_final_cleaned.csv', index=False)"
   ]
  }
 ],
 "metadata": {
  "kernelspec": {
   "display_name": "Python 3 (ipykernel)",
   "language": "python",
   "name": "python3"
  },
  "language_info": {
   "codemirror_mode": {
    "name": "ipython",
    "version": 3
   },
   "file_extension": ".py",
   "mimetype": "text/x-python",
   "name": "python",
   "nbconvert_exporter": "python",
   "pygments_lexer": "ipython3",
   "version": "3.11.7"
  }
 },
 "nbformat": 4,
 "nbformat_minor": 5
}
