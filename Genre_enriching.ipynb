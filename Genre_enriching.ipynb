{
 "cells": [
  {
   "cell_type": "code",
   "execution_count": null,
   "id": "a9888c17-7523-470b-8c86-8e0ea1e2dc74",
   "metadata": {},
   "outputs": [],
   "source": [
    "#Import required libraries\n",
    "!pip install -r requirements.txt\n",
    "import api_functions as ap\n",
    "import pandas as pd\n",
    "from dotenv import load_dotenv\n",
    "from tenacity import retry, stop_after_attempt, wait_exponential\n",
    "from requests.exceptions import HTTPError"
   ]
  },
  {
   "cell_type": "code",
   "execution_count": null,
   "id": "8bb67870-2509-4ed1-89d4-50a1604fbbb6",
   "metadata": {},
   "outputs": [],
   "source": [
    "df = pd.read_csv('complete_data.csv')"
   ]
  },
  {
   "cell_type": "code",
   "execution_count": null,
   "id": "1af65b8c-447c-4e4e-9061-67a5a27b9ae5",
   "metadata": {},
   "outputs": [],
   "source": [
    "#Get Spotify API credentials\n",
    "load_dotenv()\n",
    "client_id = os.getenv(\"client_id\")\n",
    "client_secret = os.getenv(\"client_secret\")"
   ]
  },
  {
   "cell_type": "code",
   "execution_count": null,
   "id": "311f5e90-ccf3-485f-9a16-d2e122dd965d",
   "metadata": {},
   "outputs": [],
   "source": [
    "import requests\n",
    "# Apply the function to add genres\n",
    "df['genre'] = df['Artist'].apply(ap.get_genre)\n"
   ]
  },
  {
   "cell_type": "code",
   "execution_count": null,
   "id": "cf98b1fb-9f98-4e70-ab01-1eef7735e38e",
   "metadata": {},
   "outputs": [],
   "source": [
    "#Extract the primary genre and add Primary genre column\n",
    "df['Primary genre'] = df['genre'].tolist()\n",
    "df['Primary genre'] = df['genre'].str.extract(r\"\\['(.*?)'\")"
   ]
  },
  {
   "cell_type": "code",
   "execution_count": null,
   "id": "dd868155-8757-493b-b408-fe235cc90372",
   "metadata": {},
   "outputs": [],
   "source": [
    "df['Final genre'] = ap.cluster_genres(df, 'Primary genre')"
   ]
  },
  {
   "cell_type": "code",
   "execution_count": null,
   "id": "c5aad6f8-fe47-415a-9876-54fb0d5fcd64",
   "metadata": {},
   "outputs": [],
   "source": [
    "#Export the file\n",
    "df.to_csv('complete_data.csv', index=False)"
   ]
  }
 ],
 "metadata": {
  "kernelspec": {
   "display_name": "Python 3 (ipykernel)",
   "language": "python",
   "name": "python3"
  },
  "language_info": {
   "codemirror_mode": {
    "name": "ipython",
    "version": 3
   },
   "file_extension": ".py",
   "mimetype": "text/x-python",
   "name": "python",
   "nbconvert_exporter": "python",
   "pygments_lexer": "ipython3",
   "version": "3.11.7"
  }
 },
 "nbformat": 4,
 "nbformat_minor": 5
}
