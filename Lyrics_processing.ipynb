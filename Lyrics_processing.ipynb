{
 "cells": [
  {
   "cell_type": "code",
   "execution_count": null,
   "id": "f2dca527-2ac1-4c9c-9b43-8df3956b0ecb",
   "metadata": {},
   "outputs": [],
   "source": [
    "#Import needed libraries \n",
    "import nltk\n",
    "!pip install -r requirements.txt\n",
    "import lyrics_functions as lf\n",
    "nltk.download('punkt')\n",
    "nltk.download('stopwords')\n",
    "nltk.download('wordnet')\n",
    "nltk.download('averaged_perceptron_tagger')\n",
    "from nltk.sentiment import SentimentIntensityAnalyzer\n",
    "from nltk.corpus import stopwords\n",
    "from nltk.stem import WordNetLemmatizer\n",
    "from nltk.tokenize import word_tokenize\n",
    "import pandas as pd\n",
    "from gensim import corpora\n",
    "from gensim.models import LdaMulticore\n",
    "from collections import Counter"
   ]
  },
  {
   "cell_type": "code",
   "execution_count": null,
   "id": "4a5ca15b-fade-48b2-a442-d3ecddbd756b",
   "metadata": {},
   "outputs": [],
   "source": [
    "#Load the DataFrame\n",
    "df = pd.read_csv('billboard_with_lyrics_final_cleaned.csv')"
   ]
  },
  {
   "cell_type": "code",
   "execution_count": null,
   "id": "8c541695-c18c-4467-bfca-50bddd4174ba",
   "metadata": {},
   "outputs": [],
   "source": [
    "#Capitalize column names\n",
    "df.columns = df.columns.str.capitalize()"
   ]
  },
  {
   "cell_type": "code",
   "execution_count": null,
   "id": "f702ccca-e240-40f3-a29e-ebdd3856c15c",
   "metadata": {},
   "outputs": [],
   "source": [
    "#Add a column to mark songs containing swear words\n",
    "df = lf.detect_swear_words(df, 'Lyrics')"
   ]
  },
  {
   "cell_type": "code",
   "execution_count": null,
   "id": "7e285b2c-f109-41dc-87e1-26978b84fccc",
   "metadata": {},
   "outputs": [],
   "source": [
    "#Preprocess the lyrics for NLP \n",
    "lf.preprocess_lyrics(df, 'Lyrics')"
   ]
  },
  {
   "cell_type": "code",
   "execution_count": null,
   "id": "abd8fe2b-df7f-4167-adf9-df4d7e76e65a",
   "metadata": {},
   "outputs": [],
   "source": [
    "# Analyze the sentiment of the lyrics\n",
    "df['Sentiment_score'] = df.apply(lambda row: lf.analyze_sentiment(row['Text_without_stopwords'], row['Pos_tags']), axis=1)\n",
    "\n",
    "# Classify the sentiment score into \"positive\", \"negative\", and \"neutral\"\n",
    "df['Sentiment'] = df['Sentiment_score'].apply(lambda x: 'positive' if x > 0.05 else 'negative' if x < -0.05 else 'neutral')"
   ]
  },
  {
   "cell_type": "code",
   "execution_count": null,
   "id": "b59f5aa7-9a7d-476f-ae73-0413c827db00",
   "metadata": {},
   "outputs": [],
   "source": [
    "#Classify all songs into 13 topics and print the keywords for each topic\n",
    "df, topics_df = lf.analyze_lyrics(df, num_topics=13)"
   ]
  },
  {
   "cell_type": "code",
   "execution_count": null,
   "id": "5a486480-992f-449c-8488-de030a4f9ef0",
   "metadata": {},
   "outputs": [],
   "source": [
    "# Apply the function to create a new column with topic labels\n",
    "df['Topic_label'] = df['Topic'].map(lf.label_topics)"
   ]
  },
  {
   "cell_type": "code",
   "execution_count": null,
   "id": "df58a0da-0155-4188-83fc-a7ec2b606114",
   "metadata": {},
   "outputs": [],
   "source": [
    "#Export the final DataFrame\n",
    "df.to_csv('final_data.csv', index=False)"
   ]
  }
 ],
 "metadata": {
  "kernelspec": {
   "display_name": "Python 3 (ipykernel)",
   "language": "python",
   "name": "python3"
  },
  "language_info": {
   "codemirror_mode": {
    "name": "ipython",
    "version": 3
   },
   "file_extension": ".py",
   "mimetype": "text/x-python",
   "name": "python",
   "nbconvert_exporter": "python",
   "pygments_lexer": "ipython3",
   "version": "3.11.7"
  }
 },
 "nbformat": 4,
 "nbformat_minor": 5
}
